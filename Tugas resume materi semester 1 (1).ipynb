{
 "cells": [
  {
   "cell_type": "markdown",
   "id": "65711a7b-1bf5-4a37-86cd-994f250a7a88",
   "metadata": {},
   "source": [
    "### Nama : Safa Ayu Artanti\n",
    "### NIM  : 10310243004\n",
    "### Kelas: DS-04-02"
   ]
  },
  {
   "cell_type": "markdown",
   "id": "d11b513d-ec83-4cdb-a473-004342360892",
   "metadata": {},
   "source": [
    "#### 1. Syntax"
   ]
  },
  {
   "cell_type": "code",
   "execution_count": 5,
   "id": "8623540a-c885-41f2-bf54-61226f96e9b8",
   "metadata": {},
   "outputs": [
    {
     "name": "stdout",
     "output_type": "stream",
     "text": [
      "Hello, World!\n"
     ]
    }
   ],
   "source": [
    "print(\"Hello, World!\")"
   ]
  },
  {
   "cell_type": "markdown",
   "id": "098e0221-a7b0-42ab-af10-37bce615b96d",
   "metadata": {},
   "source": [
    "#### 2. Variabel"
   ]
  },
  {
   "cell_type": "code",
   "execution_count": 8,
   "id": "b8f30cfd-a29e-4021-8238-5d3c6909979e",
   "metadata": {},
   "outputs": [
    {
     "name": "stdout",
     "output_type": "stream",
     "text": [
      "Nama saya adalah Safa dan usia saya adalah 18\n"
     ]
    }
   ],
   "source": [
    "nama = \"Safa\"\n",
    "usia = 18\n",
    "\n",
    "print(\"Nama saya adalah\", nama, \"dan usia saya adalah\", usia)"
   ]
  },
  {
   "cell_type": "markdown",
   "id": "42f3271c-a9e4-49b4-9ad3-953b00dea7f6",
   "metadata": {},
   "source": [
    "#### 3. Data Type"
   ]
  },
  {
   "cell_type": "code",
   "execution_count": 11,
   "id": "e2acf295-7b53-424d-bfcf-fc5356c4283d",
   "metadata": {},
   "outputs": [
    {
     "name": "stdout",
     "output_type": "stream",
     "text": [
      "<class 'str'>\n",
      "<class 'int'>\n",
      "<class 'float'>\n",
      "<class 'bool'>\n"
     ]
    }
   ],
   "source": [
    "nama = \"Safa\"\n",
    "usia = 18\n",
    "tinggi = 1.55\n",
    "benar = True\n",
    "\n",
    "print(type(nama))\n",
    "print(type(usia))\n",
    "print(type(tinggi))\n",
    "print(type(benar))"
   ]
  },
  {
   "cell_type": "markdown",
   "id": "862db854-bcde-4f61-9015-7f59ea7f09e3",
   "metadata": {},
   "source": [
    "#### 4. Comment"
   ]
  },
  {
   "cell_type": "code",
   "execution_count": 14,
   "id": "ac4bdad1-3566-48d5-9405-eccdd7278d4d",
   "metadata": {},
   "outputs": [],
   "source": [
    "# Ini adalah komentar\n",
    "nama = \"Safa\"\n",
    "\n",
    "# Ini adalah komentar lain\n",
    "usia = 18\n",
    "\n",
    "# Ini adalah komentar yang panjang\n",
    "tinggi = 1.55"
   ]
  },
  {
   "cell_type": "markdown",
   "id": "4eaf08da-3d5c-4991-9800-90c8cb69b12d",
   "metadata": {},
   "source": [
    "#### 5. Operators"
   ]
  },
  {
   "cell_type": "markdown",
   "id": "d230c607-e4c2-4f73-ad2c-83be1c365311",
   "metadata": {},
   "source": [
    "##### a. Operasi Aritmatika"
   ]
  },
  {
   "cell_type": "code",
   "execution_count": 23,
   "id": "69748f5d-e22b-46bf-b0f9-fcf0fb89faaa",
   "metadata": {},
   "outputs": [
    {
     "name": "stdout",
     "output_type": "stream",
     "text": [
      "C:  30\n",
      "D:  -10\n",
      "E:  200\n",
      "F:  0.5\n",
      "G:  100000000000000000000\n",
      "H:  10\n",
      "I:  0\n"
     ]
    }
   ],
   "source": [
    "a = 10\n",
    "b = 20\n",
    "\n",
    "c = a + b  \n",
    "d = a - b  \n",
    "e = a * b  \n",
    "f = a / b  \n",
    "g = a ** b \n",
    "h = a % b  \n",
    "i = a // b \n",
    "\n",
    "print(\"C: \",c)\n",
    "print(\"D: \",d)\n",
    "print(\"E: \",e)\n",
    "print(\"F: \",f)\n",
    "print(\"G: \",g)\n",
    "print(\"H: \",h)\n",
    "print(\"I: \",i)"
   ]
  },
  {
   "cell_type": "markdown",
   "id": "3a3b8f42-6c88-420b-b78f-9359248e21af",
   "metadata": {},
   "source": [
    "##### b. Operasi Relasi"
   ]
  },
  {
   "cell_type": "code",
   "execution_count": 27,
   "id": "47245dc0-92e1-4433-9b1f-98ae47bd9a9e",
   "metadata": {},
   "outputs": [
    {
     "name": "stdout",
     "output_type": "stream",
     "text": [
      "C:  False\n",
      "D:  True\n",
      "E:  False\n",
      "F:  True\n",
      "G:  False\n",
      "H:  True\n"
     ]
    }
   ],
   "source": [
    "a = 10\n",
    "b = 20\n",
    "\n",
    "c = a == b  \n",
    "d = a != b  \n",
    "e = a > b   \n",
    "f = a < b   \n",
    "g = a >= b  \n",
    "h = a <= b  \n",
    "\n",
    "print(\"C: \",c)\n",
    "print(\"D: \",d)\n",
    "print(\"E: \",e)\n",
    "print(\"F: \",f)\n",
    "print(\"G: \",g)\n",
    "print(\"H: \",h)"
   ]
  },
  {
   "cell_type": "markdown",
   "id": "922d3732-a742-4a04-909b-d33d69b3e92e",
   "metadata": {},
   "source": [
    "#### c. Operasi Penugasan"
   ]
  },
  {
   "cell_type": "code",
   "execution_count": 50,
   "id": "38de6f88-d72f-489c-bf88-46f9d02f69d3",
   "metadata": {},
   "outputs": [
    {
     "name": "stdout",
     "output_type": "stream",
     "text": [
      "a:  11\n"
     ]
    }
   ],
   "source": [
    "a = 10\n",
    "\n",
    "a = a + 1  \n",
    "print(\"a: \",a)"
   ]
  },
  {
   "cell_type": "code",
   "execution_count": 52,
   "id": "e134171e-75db-418c-958c-ca74ae8b4ab7",
   "metadata": {},
   "outputs": [
    {
     "name": "stdout",
     "output_type": "stream",
     "text": [
      "a:  12\n"
     ]
    }
   ],
   "source": [
    "a += 1\n",
    "print(\"a: \",a)"
   ]
  },
  {
   "cell_type": "code",
   "execution_count": 54,
   "id": "e884f2a8-f518-449b-bdb4-dcd6c7056968",
   "metadata": {},
   "outputs": [
    {
     "name": "stdout",
     "output_type": "stream",
     "text": [
      "a:  11\n"
     ]
    }
   ],
   "source": [
    "a -= 1\n",
    "print(\"a: \",a)"
   ]
  },
  {
   "cell_type": "code",
   "execution_count": 56,
   "id": "f8fc092b-ab18-4f1d-b324-4350bb528cd2",
   "metadata": {},
   "outputs": [
    {
     "name": "stdout",
     "output_type": "stream",
     "text": [
      "a:  22\n"
     ]
    }
   ],
   "source": [
    "a *= 2\n",
    "print(\"a: \",a)"
   ]
  },
  {
   "cell_type": "code",
   "execution_count": 58,
   "id": "1f161edc-1ce6-4ad5-b4f4-cfecbe880de6",
   "metadata": {},
   "outputs": [
    {
     "name": "stdout",
     "output_type": "stream",
     "text": [
      "a:  11.0\n"
     ]
    }
   ],
   "source": [
    "a /= 2\n",
    "print(\"a: \",a)"
   ]
  },
  {
   "cell_type": "code",
   "execution_count": 60,
   "id": "fdf9bd9c-44a0-40af-a5f2-9d25d7ee61d8",
   "metadata": {},
   "outputs": [
    {
     "name": "stdout",
     "output_type": "stream",
     "text": [
      "a:  121.0\n"
     ]
    }
   ],
   "source": [
    "a **= 2\n",
    "print(\"a: \",a)"
   ]
  },
  {
   "cell_type": "code",
   "execution_count": 62,
   "id": "04dacf75-c3f1-416e-a9b0-a5f3c0b3ac7f",
   "metadata": {},
   "outputs": [
    {
     "name": "stdout",
     "output_type": "stream",
     "text": [
      "a:  1.0\n"
     ]
    }
   ],
   "source": [
    "a %= 2\n",
    "print(\"a: \",a)"
   ]
  },
  {
   "cell_type": "code",
   "execution_count": 64,
   "id": "9287f322-b640-4cd2-b0e5-5478ecfa48ac",
   "metadata": {},
   "outputs": [
    {
     "name": "stdout",
     "output_type": "stream",
     "text": [
      "a:  0.0\n"
     ]
    }
   ],
   "source": [
    "a //= 2\n",
    "print(\"a: \",a)"
   ]
  },
  {
   "cell_type": "markdown",
   "id": "26e3b2d0-e54f-4de4-864c-4be32320dfb4",
   "metadata": {},
   "source": [
    "##### d. Operator Logika"
   ]
  },
  {
   "cell_type": "code",
   "execution_count": 67,
   "id": "41e62bb1-0b6e-4cf9-ab8c-80b3bd7a5e8e",
   "metadata": {},
   "outputs": [
    {
     "name": "stdout",
     "output_type": "stream",
     "text": [
      "c:  False\n",
      "d:  True\n",
      "e:  False\n"
     ]
    }
   ],
   "source": [
    "a = True\n",
    "b = False\n",
    "\n",
    "c = a and b  \n",
    "d = a or b   \n",
    "e = not a    \n",
    "\n",
    "print(\"c: \",c)\n",
    "print(\"d: \",d)\n",
    "print(\"e: \",e)"
   ]
  },
  {
   "cell_type": "markdown",
   "id": "2eedbb31-eb8c-4497-a32f-d9e6853c917d",
   "metadata": {},
   "source": [
    "##### e. Operator Keanggotaan"
   ]
  },
  {
   "cell_type": "code",
   "execution_count": 70,
   "id": "513d1cc0-441a-4169-9c1f-abaf2bf29dea",
   "metadata": {},
   "outputs": [
    {
     "name": "stdout",
     "output_type": "stream",
     "text": [
      "c:  True\n",
      "d:  False\n",
      "e:  False\n",
      "f:  True\n"
     ]
    }
   ],
   "source": [
    "angka = [1, 2, 3, 4, 5]\n",
    "\n",
    "c = 1 in angka \n",
    "d = 6 in angka\n",
    "e = 1 not in angka\n",
    "f = 6 not in angka\n",
    "\n",
    "print(\"c: \",c)\n",
    "print(\"d: \",d)\n",
    "print(\"e: \",e)\n",
    "print(\"f: \",f)"
   ]
  },
  {
   "cell_type": "markdown",
   "id": "f56c8328-2690-4df5-a5d6-f80b48a3aad0",
   "metadata": {},
   "source": [
    "##### f. Operator Identitas"
   ]
  },
  {
   "cell_type": "code",
   "execution_count": 73,
   "id": "0049aa7e-155e-46ca-aa5a-93c0ec9feca7",
   "metadata": {},
   "outputs": [
    {
     "name": "stdout",
     "output_type": "stream",
     "text": [
      "c:  True\n",
      "d:  False\n",
      "e:  10\n",
      "f:  True\n"
     ]
    }
   ],
   "source": [
    "a = 10\n",
    "b = 10\n",
    "\n",
    "c = a is b      \n",
    "d = a is not b  \n",
    "e = a = b       \n",
    "f = a is b      \n",
    "\n",
    "print(\"c: \",c)\n",
    "print(\"d: \",d)\n",
    "print(\"e: \",e)\n",
    "print(\"f: \",f)"
   ]
  },
  {
   "cell_type": "markdown",
   "id": "04bdc45e-4e30-4815-8fa2-13e39bdbb80a",
   "metadata": {},
   "source": [
    "#### 6. Input Output"
   ]
  },
  {
   "cell_type": "code",
   "execution_count": 76,
   "id": "973d1305-cfa0-42c4-9ab9-b9b92ef579ed",
   "metadata": {},
   "outputs": [
    {
     "name": "stdin",
     "output_type": "stream",
     "text": [
      "Masukkan nama Anda:  Safa\n"
     ]
    },
    {
     "name": "stdout",
     "output_type": "stream",
     "text": [
      "Nama Anda adalah Safa\n"
     ]
    }
   ],
   "source": [
    "# Input\n",
    "nama = input(\"Masukkan nama Anda: \")\n",
    "\n",
    "# Output\n",
    "print(\"Nama Anda adalah\", nama)"
   ]
  },
  {
   "cell_type": "markdown",
   "id": "980627c4-d5c7-40c0-b18c-1cda5d961416",
   "metadata": {},
   "source": [
    "#### 7. Perintah if"
   ]
  },
  {
   "cell_type": "code",
   "execution_count": 81,
   "id": "bdf979c7-7cc2-4edc-a0d5-9afba9ae9fcf",
   "metadata": {},
   "outputs": [
    {
     "name": "stdout",
     "output_type": "stream",
     "text": [
      "Bilangan genap\n"
     ]
    }
   ],
   "source": [
    "bil = 10\n",
    "\n",
    "if bil % 2 == 0:\n",
    "    print(\"Bilangan genap\")\n",
    "else:\n",
    "    print(\"Bilangan ganjil\")"
   ]
  },
  {
   "cell_type": "markdown",
   "id": "4f84a819-b0c3-40d9-9eca-75f3789f6e4c",
   "metadata": {},
   "source": [
    "#### 8. Operator Logika"
   ]
  },
  {
   "cell_type": "code",
   "execution_count": 84,
   "id": "c9492fe4-ab33-41ca-bca0-cf28f8c98ff4",
   "metadata": {},
   "outputs": [
    {
     "name": "stdout",
     "output_type": "stream",
     "text": [
      "Nilai valid\n"
     ]
    }
   ],
   "source": [
    "nilai = 15\n",
    "\n",
    "if nilai > 10 and nilai < 20:\n",
    "    print(\"Nilai valid\")\n",
    "else:\n",
    "    print(\"Nilai tidak valid\")"
   ]
  },
  {
   "cell_type": "markdown",
   "id": "3408abe8-5f2f-440f-bdd9-f54b9585059b",
   "metadata": {},
   "source": [
    "##### Luas Segitiga dengan Percabangan"
   ]
  },
  {
   "cell_type": "code",
   "execution_count": 89,
   "id": "2e96d768-48a1-4ae7-a4c1-eacd596f2d27",
   "metadata": {},
   "outputs": [
    {
     "name": "stdin",
     "output_type": "stream",
     "text": [
      "Masukkan alas segitiga:  3\n",
      "Masukkan tinggi segitiga:  9\n"
     ]
    },
    {
     "name": "stdout",
     "output_type": "stream",
     "text": [
      "Luas segitiga: 13.5\n"
     ]
    }
   ],
   "source": [
    "alas = float(input(\"Masukkan alas segitiga: \"))\n",
    "tinggi = float(input(\"Masukkan tinggi segitiga: \"))\n",
    "luas = (alas * tinggi) / 2\n",
    "\n",
    "if alas <= 0 or tinggi <= 0:\n",
    "    print(\"Nilai alas atau tinggi tidak valid\")\n",
    "else:\n",
    "    luas = (alas * tinggi) / 2\n",
    "    print(\"Luas segitiga:\", luas)"
   ]
  },
  {
   "cell_type": "markdown",
   "id": "6e30ce3e-6c8d-4542-8e6e-14924245165f",
   "metadata": {},
   "source": [
    "##### Pernyataan if Bertingkat"
   ]
  },
  {
   "cell_type": "code",
   "execution_count": 94,
   "id": "f3f73d70-ebab-445d-a2e2-609237edece9",
   "metadata": {},
   "outputs": [
    {
     "name": "stdin",
     "output_type": "stream",
     "text": [
      "Masukkan bilangan:  -1\n"
     ]
    },
    {
     "name": "stdout",
     "output_type": "stream",
     "text": [
      "Bilangan negatif\n"
     ]
    }
   ],
   "source": [
    "bil = float(input(\"Masukkan bilangan: \"))\n",
    "\n",
    "if bil > 0:\n",
    "    print(\"Bilangan positif\")\n",
    "elif bil < 0:\n",
    "    print(\"Bilangan negatif\")\n",
    "else:\n",
    "    print(\"Bilangan nol\")"
   ]
  },
  {
   "cell_type": "markdown",
   "id": "5c38e6d2-6d46-4f17-b1a2-3018a79e7b87",
   "metadata": {},
   "source": [
    "##### Pernyataan if Bersarang"
   ]
  },
  {
   "cell_type": "code",
   "execution_count": 97,
   "id": "c8af7262-722e-49fc-bac5-476bff722cda",
   "metadata": {},
   "outputs": [
    {
     "name": "stdin",
     "output_type": "stream",
     "text": [
      "Masukkan bilangan:  5\n"
     ]
    },
    {
     "name": "stdout",
     "output_type": "stream",
     "text": [
      "Bilangan positif dan bukan genap\n"
     ]
    }
   ],
   "source": [
    "bil = float(input(\"Masukkan bilangan: \"))\n",
    "\n",
    "if bil > 0:\n",
    "    # Bilangan positif\n",
    "    if bil % 2 == 0:\n",
    "        print(\"Bilangan positif dan genap\")\n",
    "    else:\n",
    "        print(\"Bilangan positif dan bukan genap\")\n",
    "elif bil < 0:\n",
    "    # Bilangan negatif\n",
    "    print(\"Bilangan negatif\")\n",
    "else:\n",
    "    # Bilangan nol\n",
    "    print(\"Bilangan nol\")"
   ]
  },
  {
   "cell_type": "markdown",
   "id": "ea2702c7-3118-4eb8-84ca-35d3af13fca8",
   "metadata": {},
   "source": [
    "#### 9. Perulangan"
   ]
  },
  {
   "cell_type": "markdown",
   "id": "bcc1b0ae-fa45-4ba8-82a3-6853ae5725ad",
   "metadata": {},
   "source": [
    "##### a. Perintah for"
   ]
  },
  {
   "cell_type": "code",
   "execution_count": 1,
   "id": "104a7ad9-70d5-4a42-860a-f1bd22ded8ee",
   "metadata": {},
   "outputs": [
    {
     "name": "stdout",
     "output_type": "stream",
     "text": [
      "1\n",
      "2\n",
      "3\n",
      "4\n",
      "5\n",
      "6\n",
      "7\n",
      "8\n",
      "9\n",
      "10\n"
     ]
    }
   ],
   "source": [
    "i = 1\n",
    "for i in range (1, 11):\n",
    "    print(i)\n",
    "    i += 1"
   ]
  },
  {
   "cell_type": "markdown",
   "id": "b4bc0dac-b7a7-4d60-8b69-65c5db5c6fed",
   "metadata": {},
   "source": [
    "##### b. Perintah break"
   ]
  },
  {
   "cell_type": "code",
   "execution_count": 13,
   "id": "905cc3bc-d958-4b9b-9c4a-9746155dd5a9",
   "metadata": {},
   "outputs": [
    {
     "name": "stdout",
     "output_type": "stream",
     "text": [
      "1\n",
      "2\n",
      "3\n",
      "4\n"
     ]
    }
   ],
   "source": [
    "for i in range(1, 11):\n",
    "    if i == 5:\n",
    "        break\n",
    "    print(i)"
   ]
  },
  {
   "cell_type": "markdown",
   "id": "4e9ae596-028f-4a99-bcf8-7fb8a6ac1fb4",
   "metadata": {},
   "source": [
    "##### c. Perintah continue"
   ]
  },
  {
   "cell_type": "code",
   "execution_count": 22,
   "id": "73a10c76-150b-4d50-abb2-ac5bc9ef5485",
   "metadata": {},
   "outputs": [
    {
     "name": "stdout",
     "output_type": "stream",
     "text": [
      "1\n",
      "3\n",
      "5\n",
      "7\n",
      "9\n"
     ]
    }
   ],
   "source": [
    "for i in range(1, 11):\n",
    "    if i % 2 == 0:\n",
    "        continue\n",
    "    print(i)"
   ]
  },
  {
   "cell_type": "markdown",
   "id": "ea8e4abd-c613-4bf7-8a3c-b36c510882b4",
   "metadata": {},
   "source": [
    "#### TERIMA KASIH!"
   ]
  },
  {
   "cell_type": "code",
   "execution_count": null,
   "id": "886ff4a4-b54b-43bf-aa9e-c616ffbc3ba2",
   "metadata": {},
   "outputs": [],
   "source": []
  }
 ],
 "metadata": {
  "kernelspec": {
   "display_name": "Python 3 (ipykernel)",
   "language": "python",
   "name": "python3"
  },
  "language_info": {
   "codemirror_mode": {
    "name": "ipython",
    "version": 3
   },
   "file_extension": ".py",
   "mimetype": "text/x-python",
   "name": "python",
   "nbconvert_exporter": "python",
   "pygments_lexer": "ipython3",
   "version": "3.12.4"
  }
 },
 "nbformat": 4,
 "nbformat_minor": 5
}
